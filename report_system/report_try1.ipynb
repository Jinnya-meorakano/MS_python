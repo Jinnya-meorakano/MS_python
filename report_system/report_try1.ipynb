{
 "cells": [
  {
   "cell_type": "code",
   "execution_count": null,
   "metadata": {},
   "outputs": [],
   "source": [
    "def solution(id_list, report, k):\n",
    "    \n",
    "# 2 <= len(id_list) <= 1000\n",
    "# 1 <= len(id_list[i]) <= 10\n",
    "# id_list : 소문자 only, 중복 X\n",
    "\n",
    "# 1 <= len(report) <= 200000\n",
    "# 3 <= len(report[i]) <= 21\n",
    "# report[i] = \"user_id reported_id\" -- \"muzi frodo\" : muzi가 frodo 신고 (소문자, 스패이스 구분)\n",
    "# self reporting X\n",
    "\n",
    "# 1 <= k <= 200, 자연수\n",
    "# k 번 이상 신고 당하면 이용 정지 처리, 신고 횟수 제한 X\n",
    "# 한 유저 반복 신고 = 1회로 처리\n",
    "# 이용 정지 처리 시 - 해당 유저 신고한 모든 유저에게 정지 사실 메일 발송\n",
    "# 유저의 신고 history 모두 이용 정지 시키며 정지 메일 발송\n",
    "\n",
    "# return 배열 : id_list 담긴 id 순으로 각 유저가 받은 결과 메일 수\n",
    "# 즉 해당 유저가 신고한 타 유저들 중 정지 처리 당한 유저 수 (다른 유저들에 의해 k 회 이상 신고 당한)\n",
    "\n",
    "    report_case = []\n",
    "    for i in report:\n",
    "        report_case = i.split(\" \")\n",
    "        print(report_case)\n",
    "        \n",
    "\n",
    "    answer = []\n",
    "    return answer\n",
    "\n"
   ]
  },
  {
   "cell_type": "markdown",
   "metadata": {},
   "source": []
  },
  {
   "cell_type": "code",
   "execution_count": 5,
   "metadata": {},
   "outputs": [
    {
     "name": "stdout",
     "output_type": "stream",
     "text": [
      "frodo has been banned.\n",
      "neo has been banned.\n",
      "{'muzi': 2, 'frodo': 1, 'apeach': 2, 'neo': 0}\n",
      "{'muzi': 1, 'frodo': 2, 'apeach': 0, 'neo': 2}\n"
     ]
    }
   ],
   "source": [
    "id_list = [\"muzi\", \"frodo\", \"apeach\", \"neo\"]\n",
    "\n",
    "report = [\"muzi frodo\",\"apeach frodo\",\"frodo neo\",\"muzi neo\",\"apeach muzi\"]\n",
    "\n",
    "k = 2\n",
    "\n",
    "result = []\n",
    "\n",
    "# ----------------------\n",
    "report_count = {user : 0 for user in id_list}\n",
    "\n",
    "reported_count = {user : 0 for user in id_list}\n",
    "\n",
    "\n",
    "for rep in report:\n",
    "\n",
    "    reporter, reported = rep.split(\" \")\n",
    "    \n",
    "    report_count[reporter] += 1\n",
    "    reported_count[reported] += 1\n",
    "\n",
    "    if reported_count[reported] == k:\n",
    "        print(f\"{reported} has been banned.\")\n",
    "\n",
    "    elif reported_count[reported] > k:\n",
    "        reported = 'null'\n",
    "\n",
    "print(report_count)\n",
    "print(reported_count)"
   ]
  },
  {
   "cell_type": "code",
   "execution_count": null,
   "metadata": {},
   "outputs": [],
   "source": [
    "def solution(id_list, report, k):\n",
    "    answer = []\n",
    "    return answer"
   ]
  }
 ],
 "metadata": {
  "kernelspec": {
   "display_name": "Python 3",
   "language": "python",
   "name": "python3"
  },
  "language_info": {
   "codemirror_mode": {
    "name": "ipython",
    "version": 3
   },
   "file_extension": ".py",
   "mimetype": "text/x-python",
   "name": "python",
   "nbconvert_exporter": "python",
   "pygments_lexer": "ipython3",
   "version": "3.11.9"
  }
 },
 "nbformat": 4,
 "nbformat_minor": 2
}

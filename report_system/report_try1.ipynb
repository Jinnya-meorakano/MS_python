{
 "cells": [
  {
   "cell_type": "code",
   "execution_count": null,
   "metadata": {},
   "outputs": [],
   "source": [
    "def solution(id_list, report, k):\n",
    "    \n",
    "# 2 <= len(id_list) <= 1000\n",
    "# 1 <= len(id_list[i]) <= 10\n",
    "# id_list : 소문자 only, 중복 X\n",
    "\n",
    "# 1 <= len(report) <= 200000\n",
    "# 3 <= len(report[i]) <= 21\n",
    "# report[i] = \"user_id reported_id\" -- \"muzi frodo\" : muzi가 frodo 신고 (소문자, 스패이스 구분)\n",
    "# self reporting X\n",
    "\n",
    "# 1 <= k <= 200, 자연수\n",
    "# k 번 이상 신고 당하면 이용 정지 처리, 신고 횟수 제한 X\n",
    "# 한 유저 반복 신고 = 1회로 처리\n",
    "# 이용 정지 처리 시 - 해당 유저 신고한 모든 유저에게 정지 사실 메일 발송\n",
    "# 유저의 신고 history 모두 이용 정지 시키며 정지 메일 발송\n",
    "\n",
    "# return 배열 : id_list 담긴 id 순으로 각 유저가 받은 결과 메일 수\n",
    "# 즉 해당 유저가 신고한 타 유저들 중 정지 처리 당한 유저 수 (다른 유저들에 의해 k 회 이상 신고 당한)\n",
    "\n",
    "    report_case = []\n",
    "    for i in report:\n",
    "        report_case = i.split(\" \")\n",
    "        print(report_case)\n",
    "        \n",
    "\n",
    "    answer = []\n",
    "    return answer\n",
    "\n"
   ]
  },
  {
   "cell_type": "markdown",
   "metadata": {},
   "source": []
  },
  {
   "cell_type": "code",
   "execution_count": 5,
   "metadata": {},
   "outputs": [
    {
     "name": "stdout",
     "output_type": "stream",
     "text": [
      "frodo has been banned.\n",
      "neo has been banned.\n",
      "{'muzi': 2, 'frodo': 1, 'apeach': 2, 'neo': 0}\n",
      "{'muzi': 1, 'frodo': 2, 'apeach': 0, 'neo': 2}\n"
     ]
    }
   ],
   "source": [
    "id_list = [\"muzi\", \"frodo\", \"apeach\", \"neo\"]\n",
    "\n",
    "report = [\"muzi frodo\",\"apeach frodo\",\"frodo neo\",\"muzi neo\",\"apeach muzi\"]\n",
    "\n",
    "k = 2\n",
    "\n",
    "result = []\n",
    "\n",
    "# ----------------------\n",
    "report_count = {user : 0 for user in id_list}\n",
    "\n",
    "reported_count = {user : 0 for user in id_list}\n",
    "\n",
    "\n",
    "for rep in report:\n",
    "\n",
    "    reporter, reported = rep.split(\" \")\n",
    "    \n",
    "    report_count[reporter] += 1\n",
    "    reported_count[reported] += 1\n",
    "\n",
    "    if reported_count[reported] == k:\n",
    "        print(f\"{reported} has been banned.\")\n",
    "\n",
    "    elif reported_count[reported] > k:\n",
    "        reported = 'null'\n",
    "\n",
    "print(report_count)\n",
    "print(reported_count)"
   ]
  },
  {
   "cell_type": "code",
   "execution_count": null,
   "metadata": {},
   "outputs": [],
   "source": [
    "def solution(id_list, report, k):\n",
    "    answer = []\n",
    "    return answer"
   ]
  },
  {
   "cell_type": "code",
   "execution_count": 70,
   "metadata": {},
   "outputs": [
    {
     "name": "stdout",
     "output_type": "stream",
     "text": [
      "report_pos = [('muzi', 'frodo'), ('muzi', 'apeach'), ('muzi', 'neo'), ('frodo', 'muzi'), ('frodo', 'apeach'), ('frodo', 'neo'), ('apeach', 'muzi'), ('apeach', 'frodo'), ('apeach', 'neo'), ('neo', 'muzi'), ('neo', 'frodo'), ('neo', 'apeach')]\n"
     ]
    },
    {
     "data": {
      "text/plain": [
       "['muzi frodo',\n",
       " 'frodo apeach',\n",
       " 'muzi neo',\n",
       " 'apeach frodo',\n",
       " 'neo frodo',\n",
       " 'neo muzi',\n",
       " 'apeach frodo',\n",
       " 'neo muzi',\n",
       " 'frodo neo',\n",
       " 'apeach neo',\n",
       " 'muzi neo',\n",
       " 'frodo apeach',\n",
       " 'apeach neo',\n",
       " 'neo frodo',\n",
       " 'apeach frodo',\n",
       " 'muzi frodo',\n",
       " 'neo frodo',\n",
       " 'neo apeach',\n",
       " 'muzi frodo',\n",
       " 'neo muzi',\n",
       " 'apeach muzi',\n",
       " 'muzi frodo',\n",
       " 'apeach neo',\n",
       " 'frodo muzi',\n",
       " 'frodo neo',\n",
       " 'frodo muzi',\n",
       " 'apeach muzi',\n",
       " 'neo muzi',\n",
       " 'muzi neo',\n",
       " 'neo apeach',\n",
       " 'apeach neo',\n",
       " 'muzi neo',\n",
       " 'muzi neo',\n",
       " 'neo apeach',\n",
       " 'apeach frodo',\n",
       " 'apeach frodo',\n",
       " 'muzi apeach',\n",
       " 'muzi frodo',\n",
       " 'frodo apeach',\n",
       " 'frodo neo',\n",
       " 'neo frodo',\n",
       " 'neo muzi',\n",
       " 'frodo muzi',\n",
       " 'apeach frodo',\n",
       " 'frodo apeach',\n",
       " 'neo muzi',\n",
       " 'frodo neo',\n",
       " 'apeach frodo',\n",
       " 'frodo muzi',\n",
       " 'apeach neo',\n",
       " 'frodo muzi',\n",
       " 'frodo apeach',\n",
       " 'apeach muzi',\n",
       " 'apeach muzi',\n",
       " 'frodo neo',\n",
       " 'muzi apeach',\n",
       " 'frodo muzi',\n",
       " 'neo muzi',\n",
       " 'muzi apeach',\n",
       " 'frodo apeach',\n",
       " 'muzi frodo',\n",
       " 'neo apeach',\n",
       " 'apeach frodo',\n",
       " 'neo muzi',\n",
       " 'apeach frodo',\n",
       " 'apeach muzi',\n",
       " 'apeach frodo',\n",
       " 'frodo neo',\n",
       " 'muzi neo',\n",
       " 'apeach neo',\n",
       " 'muzi frodo',\n",
       " 'muzi neo',\n",
       " 'frodo neo',\n",
       " 'muzi apeach',\n",
       " 'muzi neo',\n",
       " 'neo apeach']"
      ]
     },
     "execution_count": 70,
     "metadata": {},
     "output_type": "execute_result"
    }
   ],
   "source": [
    "from random import *\n",
    "from itertools import *\n",
    "\n",
    "id_list = [\"muzi\", \"frodo\", \"apeach\", \"neo\"]\n",
    "\n",
    "report = []\n",
    "report_counts = randint(1, 200)\n",
    "\n",
    "\n",
    "report_pos = []\n",
    "\n",
    "for username in permutations(id_list, 2):\n",
    "    report_pos.append(username)\n",
    "\n",
    "print(f\"report_pos = {report_pos}\")\n",
    "\n",
    "\n",
    "\n",
    "for i in range(report_counts):\n",
    "    report_case = choice(report_pos)\n",
    "    report.append(f\"{report_case[0]} {report_case[1]}\")"
   ]
  },
  {
   "cell_type": "code",
   "execution_count": 20,
   "metadata": {},
   "outputs": [
    {
     "name": "stdout",
     "output_type": "stream",
     "text": [
      "report_count: {'muzi': 2, 'frodo': 1, 'apeach': 2, 'neo': 0}\n",
      "reported_count: {'muzi': 1, 'frodo': 2, 'apeach': 0, 'neo': 2}\n",
      "result: [1, 2, 0, 1]\n"
     ]
    }
   ],
   "source": [
    "id_list = [\"muzi\", \"frodo\", \"apeach\", \"neo\"]\n",
    "report = [\"muzi frodo\", \"apeach frodo\", \"frodo neo\", \"muzi neo\", \"apeach muzi\"]\n",
    "k = 2\n",
    "\n",
    "# 각 유저의 신고 횟수를 저장할 딕셔너리\n",
    "report_count = {user: 0 for user in id_list}\n",
    "\n",
    "# 각 유저가 신고당한 횟수를 저장할 딕셔너리\n",
    "reported_count = {user: 0 for user in id_list}\n",
    "\n",
    "# 유저별로 신고당한 횟수를 채워넣음\n",
    "for rep in report:\n",
    "    reporter, reported = rep.split()\n",
    "    report_count[reporter] += 1\n",
    "    reported_count[reported] += 1\n",
    "\n",
    "print(\"report_count:\", report_count)\n",
    "print(\"reported_count:\", reported_count)\n",
    "\n",
    "# 신고 횟수가 k 이상인 유저를 찾아서 결과 리스트에 추가\n",
    "result = []\n",
    "for user in id_list:\n",
    "    count = 0\n",
    "    for rep in report:\n",
    "        reporter, reported = rep.split()\n",
    "        if reported == user and report_count[reporter] >= k:\n",
    "            count += 1\n",
    "    result.append(count)\n",
    "\n",
    "print(\"result:\", result)"
   ]
  }
 ],
 "metadata": {
  "kernelspec": {
   "display_name": "Python 3",
   "language": "python",
   "name": "python3"
  },
  "language_info": {
   "codemirror_mode": {
    "name": "ipython",
    "version": 3
   },
   "file_extension": ".py",
   "mimetype": "text/x-python",
   "name": "python",
   "nbconvert_exporter": "python",
   "pygments_lexer": "ipython3",
   "version": "3.11.9"
  }
 },
 "nbformat": 4,
 "nbformat_minor": 2
}

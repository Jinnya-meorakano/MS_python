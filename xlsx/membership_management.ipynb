{
 "cells": [
  {
   "cell_type": "code",
   "execution_count": 31,
   "metadata": {},
   "outputs": [
    {
     "name": "stdout",
     "output_type": "stream",
     "text": [
      "1. 회원정보입력  2. 회원정보검색 3. 프로그램 종료\n",
      "회원정보를 입력하세요\n",
      "1. 회원정보입력  2. 회원정보검색 3. 프로그램 종료\n",
      "회원정보를 입력하세요\n",
      "1. 회원정보입력  2. 회원정보검색 3. 프로그램 종료\n",
      "종료합니다\n"
     ]
    }
   ],
   "source": [
    "from openpyxl import *\n",
    "\n",
    "def Main_Display():   \n",
    "    print('1. 회원정보입력  2. 회원정보검색 3. 프로그램 종료')\n",
    "    return input('입력: ')\n",
    "\n",
    "def Member_Input():\n",
    "    # member=['ID', 'Name', '주민번호앞6자리', 'Mobile', 'Address']\n",
    "    member_info = []\n",
    "    member_info = input(\"'ID', 'Name', '주민번호앞6자리', 'Mobile', 'Address'\").split(\", \")\n",
    "    return ws.append(member_info)\n",
    "\n",
    "def Member_Search(name):\n",
    "    pass\n",
    "\n",
    "wb = load_workbook('membership.xlsx')\n",
    "ws = wb.active   \n",
    "Number = 0\n",
    "ws.append(['ID', 'Name', '주민번호앞6자리', 'Mobile', 'Address'])\n",
    "while True:\n",
    "    Number = int(Main_Display()) \n",
    "\n",
    "    if Number == 1 :\n",
    "        print(\"회원정보를 입력하세요\")\n",
    "        Member_Input()\n",
    "\n",
    "    elif Number == 2 :\n",
    "        print(\"회원정보를 검색 합니다\")\n",
    "        inp = input('검색할 회원명 입력: ')\n",
    "        Member_Search(inp)\n",
    "\n",
    "    elif Number == 3 :\n",
    "        print(\"종료합니다\")\n",
    "        break\n",
    "        \n",
    "    else:\n",
    "        print(\"메뉴에 있는번호를 입력해주세요\")\n",
    "\n",
    "wb.save('membership.xlsx')\n",
    "\n"
   ]
  },
  {
   "cell_type": "code",
   "execution_count": null,
   "metadata": {},
   "outputs": [],
   "source": []
  }
 ],
 "metadata": {
  "kernelspec": {
   "display_name": "base",
   "language": "python",
   "name": "python3"
  },
  "language_info": {
   "codemirror_mode": {
    "name": "ipython",
    "version": 3
   },
   "file_extension": ".py",
   "mimetype": "text/x-python",
   "name": "python",
   "nbconvert_exporter": "python",
   "pygments_lexer": "ipython3",
   "version": "3.11.5"
  }
 },
 "nbformat": 4,
 "nbformat_minor": 2
}

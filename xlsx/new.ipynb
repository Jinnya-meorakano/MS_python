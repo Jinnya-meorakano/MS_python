{
 "cells": [
  {
   "cell_type": "code",
   "execution_count": 2,
   "metadata": {},
   "outputs": [
    {
     "data": {
      "text/plain": [
       "<function TextIOWrapper.close()>"
      ]
     },
     "execution_count": 2,
     "metadata": {},
     "output_type": "execute_result"
    }
   ],
   "source": [
    "f = open(\"a.txt\", \"w\")\n",
    "f.write(\" zzz \")\n",
    "f.close"
   ]
  },
  {
   "cell_type": "code",
   "execution_count": 4,
   "metadata": {},
   "outputs": [
    {
     "name": "stdout",
     "output_type": "stream",
     "text": [
      "전략가\n",
      "INTJ-A / INTJ-T\n",
      "모든 일에 대해 계획을 세우며 상상력이 풍부한 전략가입니다.\n",
      "논리술사\n",
      "INTP-A / INTP-T\n",
      "지식을 끝없이 갈망하는 혁신적인 발명가입니다.\n",
      "통솔자\n",
      "ENTJ-A / ENTJ-T\n",
      "항상 문제 해결 방법을 찾아내는 성격으로, 대담하고 상상력이 풍부하며 의지가 강력한 지도자입니다.\n",
      "변론가\n",
      "ENTP-A / ENTP-T\n",
      "지적 도전을 즐기는 영리하고 호기심이 많은 사색가입니다.\n",
      "변론가\n",
      "ENTP-A / ENTP-T\n",
      "지적 도전을 즐기는 영리하고 호기심이 많은 사색가입니다.\n",
      "변론가\n",
      "ENTP-A / ENTP-T\n",
      "지적 도전을 즐기는 영리하고 호기심이 많은 사색가입니다.\n",
      "선도자\n",
      "ENFJ-A / ENFJ-T\n",
      "청중을 사로잡고 의욕을 불어넣는 카리스마 넘치는 지도자입니다.\n",
      "활동가\n",
      "ENFP-A / ENFP-T\n",
      "열정적이고 창의적인 성격으로, 긍정적으로 삶을 바라보는 사교적이면서도 자유로운 영혼입니다.\n",
      "현실주의자\n",
      "ISTJ-A / ISTJ-T\n",
      "사실을 중시하는 믿음직한 현실주의자입니다.\n",
      "수호자\n",
      "ISFJ-A / ISFJ-T\n",
      "주변 사람을 보호할 준비가 되어 있는 헌신적이고 따뜻한 수호자입니다.\n",
      "경영자\n",
      "ESTJ-A / ESTJ-T\n",
      "사물과 사람을 관리하는 데 뛰어난 능력을 지닌 경영자입니다.\n",
      "집정관\n",
      "ESFJ-A / ESFJ-T\n",
      "배려심이 넘치고 항상 다른 사람을 도울 준비가 되어 있는 성격으로, 인기가 많고 사교성 높은 마당발입니다.\n",
      "장인\n",
      "ISTP-A / ISTP-T\n",
      "대담하면서도 현실적인 성격으로, 모든 종류의 도구를 자유자재로 다루는 장인입니다.\n",
      "모험가\n",
      "ISFP-A / ISFP-T\n",
      "항상 새로운 경험을 추구하는 유연하고 매력 넘치는 예술가입니다.\n",
      "사업가\n",
      "ESTP-A / ESTP-T\n",
      "위험을 기꺼이 감수하는 성격으로, 영리하고 에너지 넘치며 관찰력이 뛰어난 사업가입니다.\n",
      "연예인\n",
      "ESFP-A / ESFP-T\n",
      "즉흥적이고 넘치는 에너지와 열정으로 주변 사람을 즐겁게 하는 연예인입니다.\n"
     ]
    }
   ],
   "source": [
    "f = open(\"MBTI.txt\", \"r\")\n",
    "print(f.read())\n",
    "f.close()"
   ]
  },
  {
   "cell_type": "code",
   "execution_count": 14,
   "metadata": {},
   "outputs": [
    {
     "name": "stdout",
     "output_type": "stream",
     "text": [
      "['INTJ-A / INTJ-T\\n', 'INTP-A / INTP-T\\n', 'ISTJ-A / ISTJ-T\\n', 'ISFJ-A / ISFJ-T\\n', 'ISTP-A / ISTP-T\\n', 'ISFP-A / ISFP-T\\n']\n",
      "\n",
      "\n",
      "전략가\n",
      "INTJ-A / INTJ-T\n",
      "모든 일에 대해 계획을 세우며 상상력이 풍부한 전략가입니다.\n",
      "논리술사\n",
      "INTP-A / INTP-T\n",
      "지식을 끝없이 갈망하는 혁신적인 발명가입니다.\n",
      "통솔자\n",
      "ENTJ-A / ENTJ-T\n",
      "항상 문제 해결 방법을 찾아내는 성격으로, 대담하고 상상력이 풍부하며 의지가 강력한 지도자입니다.\n",
      "변론가\n",
      "ENTP-A / ENTP-T\n",
      "지적 도전을 즐기는 영리하고 호기심이 많은 사색가입니다.\n",
      "변론가\n",
      "ENTP-A / ENTP-T\n",
      "지적 도전을 즐기는 영리하고 호기심이 많은 사색가입니다.\n",
      "변론가\n",
      "ENTP-A / ENTP-T\n",
      "지적 도전을 즐기는 영리하고 호기심이 많은 사색가입니다.\n",
      "선도자\n",
      "ENFJ-A / ENFJ-T\n",
      "청중을 사로잡고 의욕을 불어넣는 카리스마 넘치는 지도자입니다.\n",
      "활동가\n",
      "ENFP-A / ENFP-T\n",
      "열정적이고 창의적인 성격으로, 긍정적으로 삶을 바라보는 사교적이면서도 자유로운 영혼입니다.\n",
      "현실주의자\n",
      "ISTJ-A / ISTJ-T\n",
      "사실을 중시하는 믿음직한 현실주의자입니다.\n",
      "수호자\n",
      "ISFJ-A / ISFJ-T\n",
      "주변 사람을 보호할 준비가 되어 있는 헌신적이고 따뜻한 수호자입니다.\n",
      "경영자\n",
      "ESTJ-A / ESTJ-T\n",
      "사물과 사람을 관리하는 데 뛰어난 능력을 지닌 경영자입니다.\n",
      "집정관\n",
      "ESFJ-A / ESFJ-T\n",
      "배려심이 넘치고 항상 다른 사람을 도울 준비가 되어 있는 성격으로, 인기가 많고 사교성 높은 마당발입니다.\n",
      "장인\n",
      "ISTP-A / ISTP-T\n",
      "대담하면서도 현실적인 성격으로, 모든 종류의 도구를 자유자재로 다루는 장인입니다.\n",
      "모험가\n",
      "ISFP-A / ISFP-T\n",
      "항상 새로운 경험을 추구하는 유연하고 매력 넘치는 예술가입니다.\n",
      "사업가\n",
      "ESTP-A / ESTP-T\n",
      "위험을 기꺼이 감수하는 성격으로, 영리하고 에너지 넘치며 관찰력이 뛰어난 사업가입니다.\n",
      "연예인\n",
      "ESFP-A / ESFP-T\n",
      "즉흥적이고 넘치는 에너지와 열정으로 주변 사람을 즐겁게 하는 연예인입니다."
     ]
    }
   ],
   "source": [
    "f = open(\"MBTI.txt\", \"r\")\n",
    "list_a = f.readlines()\n",
    "list_b = []\n",
    "\n",
    "for i in list_a:\n",
    "    if \"I\" in i:\n",
    "        list_b.append(i)\n",
    "\n",
    "print(f\"{list_b}\\n\\n\")\n",
    "\n",
    "for i in list_a:\n",
    "    print(i, end = '')\n",
    "\n",
    "f.close()"
   ]
  },
  {
   "cell_type": "code",
   "execution_count": 15,
   "metadata": {},
   "outputs": [],
   "source": [
    "for i in list_a:\n",
    "    if \"I\" in i:\n",
    "        list_b.append(i)\n",
    "\n",
    "f.close()"
   ]
  },
  {
   "cell_type": "code",
   "execution_count": 33,
   "metadata": {},
   "outputs": [
    {
     "name": "stdout",
     "output_type": "stream",
     "text": [
      "INTJ-A / INTJ-T\n",
      "INTP-A / INTP-T\n",
      "ENTJ-A / ENTJ-T\n",
      "ENTP-A / ENTP-T\n",
      "ENTP-A / ENTP-T\n",
      "ENTP-A / ENTP-T\n",
      "ENFJ-A / ENFJ-T\n",
      "ENFP-A / ENFP-T\n",
      "ISTJ-A / ISTJ-T\n",
      "ISFJ-A / ISFJ-T\n",
      "ESTJ-A / ESTJ-T\n",
      "ESFJ-A / ESFJ-T\n",
      "ISTP-A / ISTP-T\n",
      "ISFP-A / ISFP-T\n",
      "ESTP-A / ESTP-T\n",
      "ESFP-A / ESFP-T\n",
      "INTJ-A / INTJ-T\n",
      "INTP-A / INTP-T\n",
      "ENTJ-A / ENTJ-T\n",
      "ENTP-A / ENTP-T\n",
      "ENTP-A / ENTP-T\n",
      "ENTP-A / ENTP-T\n",
      "ENFJ-A / ENFJ-T\n",
      "ENFP-A / ENFP-T\n",
      "ISTJ-A / ISTJ-T\n",
      "ISFJ-A / ISFJ-T\n",
      "ESTJ-A / ESTJ-T\n",
      "ESFJ-A / ESFJ-T\n",
      "ISTP-A / ISTP-T\n",
      "ISFP-A / ISFP-T\n",
      "ESTP-A / ESTP-T\n",
      "ESFP-A / ESFP-T\n"
     ]
    }
   ],
   "source": [
    "f = open('MBTI.txt', 'r')\n",
    "\n",
    "list_str = f.readlines()\n",
    "\n",
    "for i in range(1, len(list_str) + 1, 3):   # for i in list_str[1::3]: 도 가능\n",
    "    print(list_str[i], end = '')\n",
    "\n",
    "for i in list_str:\n",
    "    if \"/\" in i:\n",
    "        print(i, end = \"\")"
   ]
  },
  {
   "cell_type": "code",
   "execution_count": 63,
   "metadata": {},
   "outputs": [
    {
     "name": "stdout",
     "output_type": "stream",
     "text": [
      "ID\n",
      "7\n"
     ]
    }
   ],
   "source": [
    "from openpyxl import *\n",
    "from random import *\n",
    "\n",
    "# 엑셀파일 만들기\n",
    "wb = Workbook()     # 열기 --> 임시파일\n",
    "wb.save('membership.xlsx')\n",
    "\n",
    "# excel load\n",
    "wb = load_workbook('membership.xlsx')\n",
    "ws = wb.active  # work sheet 활성화\n",
    "\n",
    "# input -- cell address\n",
    "ws['B2'] = 'kwkw'\n",
    "ws.cell(3, 3, 'apapa')\n",
    "\n",
    "ws.append(['ID', 'PWD', \"USERNAME\"])    # 데이터 없는 빈 행에 A,B,C 5~\n",
    "\n",
    "for i in range(3):\n",
    "    ws[f'A{i + 5}'], ws[f'B{i + 5}'], ws[f'C{i + 5}'] = randint(1, 999), randint(1, 999), randint(1, 999)\n",
    "\n",
    "print(ws.cell(4, 1).value)\n",
    "\n",
    "print(ws.max_row) # 몇 행까지 데이터 존재?\n",
    "\n",
    "wb.save('membership.xlsx')"
   ]
  },
  {
   "cell_type": "code",
   "execution_count": null,
   "metadata": {},
   "outputs": [],
   "source": [
    "from openpyxl import *\n",
    "\n",
    "def Main_Display():   \n",
    "    print('1. 회원정보입력  2. 회원정보검색 3. 프로그램 종료')\n",
    "    return input('입력: ')\n",
    "\n",
    "def Member_Input():  \n",
    "    member=['ID', 'Name', '주민번호앞6자리', 'Mobile', 'Address']\n",
    "\n",
    "\n",
    "def Member_Search(name):\n",
    "    pass\n",
    "\n",
    "wb = load_workbook('회원관리(엑셀).xlsx')\n",
    "ws = wb.active   \n",
    "Number = 0\n",
    "while True:\n",
    "    Number = int(Main_Display()) \n",
    "\n",
    "    if Number == 1 :\n",
    "        print(\"회원정보를 입력하세요\")\n",
    "        Member_Input()\n",
    "\n",
    "    elif Number == 2 :\n",
    "        print(\"회원정보를 검색 합니다\")\n",
    "        inp = input('검색할 회원명 입력: ')\n",
    "        Member_Search(inp)\n",
    "\n",
    "    elif Number == 3 :\n",
    "        print(\"종료합니다\")\n",
    "        break\n",
    "        \n",
    "    else:\n",
    "        print(\"메뉴에 있는번호를 입력해주세요\")"
   ]
  }
 ],
 "metadata": {
  "kernelspec": {
   "display_name": "base",
   "language": "python",
   "name": "python3"
  },
  "language_info": {
   "codemirror_mode": {
    "name": "ipython",
    "version": 3
   },
   "file_extension": ".py",
   "mimetype": "text/x-python",
   "name": "python",
   "nbconvert_exporter": "python",
   "pygments_lexer": "ipython3",
   "version": "3.11.5"
  }
 },
 "nbformat": 4,
 "nbformat_minor": 2
}

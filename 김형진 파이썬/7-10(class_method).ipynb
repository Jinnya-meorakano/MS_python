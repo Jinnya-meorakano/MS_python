{
 "cells": [
  {
   "cell_type": "code",
   "execution_count": 15,
   "metadata": {},
   "outputs": [],
   "source": [
    "class Memberinfo():\n",
    "    # 생성자 : 클래스가 호출되면 실행\n",
    "    def __init__(self, acc_id, acc_pw, name):\n",
    "        # 프로퍼티 생성\n",
    "        # 클래스 안에서만 사용 할 변수\n",
    "        self.acc_id = acc_id\n",
    "        self.acc_pw = acc_pw\n",
    "        self.name = name\n",
    "        print('회원 생성')\n",
    "\n",
    "    # 메소드, 객체가 쓸 수 있는 여러 기능    \n",
    "    def getMember(self):\n",
    "        return self.acc_id + ', ' + self.acc_pw + ', ' + self.name\n",
    "    \n",
    "    def getName(self):\n",
    "        return '이름: ' + self.name\n",
    "    \n",
    "    def pwdIncode(self):\n",
    "        print('사용자의 패스워드를 암호화 합니다.')\n",
    "        str1 = self.acc_pw\n",
    "        sec = ''\n",
    "        for i in str1:\n",
    "            sec += str(ord(i))\n",
    "        return sec\n"
   ]
  },
  {
   "cell_type": "code",
   "execution_count": 16,
   "metadata": {},
   "outputs": [
    {
     "name": "stdout",
     "output_type": "stream",
     "text": [
      "회원 생성\n",
      "사용자의 패스워드를 암호화 합니다.\n",
      "10710450514851\n"
     ]
    }
   ],
   "source": [
    "# 객체 만들기\n",
    "member1 = Memberinfo('comeonbro', 'kh2303', 'comonalo')\n",
    "\n",
    "# 프로퍼티 확인\n",
    "member1.pwdIncode()"
   ]
  },
  {
   "cell_type": "code",
   "execution_count": 23,
   "metadata": {},
   "outputs": [],
   "source": [
    "f = open(\"a.txt\", \"a\")\n",
    "\n",
    "f.write(\"허걱 ㅋㅋ\")\n",
    "f.close()"
   ]
  }
 ],
 "metadata": {
  "kernelspec": {
   "display_name": "Python 3",
   "language": "python",
   "name": "python3"
  },
  "language_info": {
   "codemirror_mode": {
    "name": "ipython",
    "version": 3
   },
   "file_extension": ".py",
   "mimetype": "text/x-python",
   "name": "python",
   "nbconvert_exporter": "python",
   "pygments_lexer": "ipython3",
   "version": "3.11.9"
  }
 },
 "nbformat": 4,
 "nbformat_minor": 2
}

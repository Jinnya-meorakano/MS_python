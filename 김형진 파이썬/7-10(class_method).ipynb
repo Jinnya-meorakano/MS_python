{
 "cells": [
  {
   "cell_type": "code",
   "execution_count": 1,
   "metadata": {},
   "outputs": [],
   "source": [
    "class Memberinfo():\n",
    "    # 생성자 : 클래스가 호출되면 실행\n",
    "    def __init__(self, acc_id, acc_pw, name):\n",
    "        # 프로퍼티 생성\n",
    "        # 클래스 안에서만 사용 할 변수\n",
    "        self.acc_id = acc_id\n",
    "        self.acc_pw = acc_pw\n",
    "        self.name = name\n",
    "\n",
    "    # 메소드, 객체가 쓸 수 있는 여러 기능    \n",
    "    def getMember(self):\n",
    "        return self.acc_id + ', ' + self.acc_pw + ', ' + self.name"
   ]
  }
 ],
 "metadata": {
  "kernelspec": {
   "display_name": "Python 3",
   "language": "python",
   "name": "python3"
  },
  "language_info": {
   "codemirror_mode": {
    "name": "ipython",
    "version": 3
   },
   "file_extension": ".py",
   "mimetype": "text/x-python",
   "name": "python",
   "nbconvert_exporter": "python",
   "pygments_lexer": "ipython3",
   "version": "3.11.9"
  }
 },
 "nbformat": 4,
 "nbformat_minor": 2
}

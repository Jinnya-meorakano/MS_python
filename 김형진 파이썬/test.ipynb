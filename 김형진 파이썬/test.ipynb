{
 "cells": [
  {
   "cell_type": "code",
   "execution_count": 12,
   "metadata": {},
   "outputs": [
    {
     "name": "stdout",
     "output_type": "stream",
     "text": [
      "Variation b = 3\n",
      "a = 2\n",
      "a =/= b\n",
      "a = 2\n",
      "a =/= b\n",
      "a = 1\n",
      "a =/= b\n",
      "a = 4\n",
      "a =/= b\n",
      "a = 2\n",
      "a =/= b\n",
      "a = 4\n",
      "a =/= b\n",
      "a = 4\n",
      "a =/= b\n",
      "a = 5\n",
      "a =/= b\n",
      "a = 1\n",
      "a =/= b\n",
      "a = 3\n",
      "Variation a = b. Ceasing the process.\n"
     ]
    }
   ],
   "source": [
    "from random import randint\n",
    "\n",
    "b = int(input(\"Put a number between 1 and 5\"))\n",
    "print(\"Variation b =\", b)\n",
    "\n",
    "while True:\n",
    "    a = randint(1, 5)\n",
    "    print(\"a =\", a)\n",
    "    if a == b:\n",
    "        print(\"Variation a = b. Ceasing the process.\")\n",
    "        break\n",
    "    else:\n",
    "        print(\"a =/= b\")\n",
    "        continue"
   ]
  }
 ],
 "metadata": {
  "kernelspec": {
   "display_name": "base",
   "language": "python",
   "name": "python3"
  },
  "language_info": {
   "codemirror_mode": {
    "name": "ipython",
    "version": 3
   },
   "file_extension": ".py",
   "mimetype": "text/x-python",
   "name": "python",
   "nbconvert_exporter": "python",
   "pygments_lexer": "ipython3",
   "version": "3.11.5"
  }
 },
 "nbformat": 4,
 "nbformat_minor": 2
}
